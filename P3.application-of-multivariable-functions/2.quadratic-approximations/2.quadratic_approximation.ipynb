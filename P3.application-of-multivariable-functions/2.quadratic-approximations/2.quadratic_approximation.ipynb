{
 "cells": [
  {
   "cell_type": "code",
   "execution_count": 1,
   "metadata": {},
   "outputs": [],
   "source": [
    "import sympy\n",
    "sympy.init_printing()\n",
    "import numpy as np\n",
    "import ipyvolume as ipv\n",
    "import ipyvolume.pylab as plt3d"
   ]
  },
  {
   "cell_type": "markdown",
   "metadata": {},
   "source": [
    "## General Forms"
   ]
  },
  {
   "cell_type": "markdown",
   "metadata": {},
   "source": [
    "### Hessian Matrix"
   ]
  },
  {
   "cell_type": "code",
   "execution_count": 60,
   "metadata": {},
   "outputs": [
    {
     "data": {
      "text/html": [
       "\n",
       "        <iframe\n",
       "            width=\"600\"\n",
       "            height=\"400\"\n",
       "            src=\"https://www.youtube.com/embed/LbBcuZukCAw\"\n",
       "            frameborder=\"0\"\n",
       "            allowfullscreen\n",
       "        ></iframe>\n",
       "        "
      ],
      "text/plain": [
       "<IPython.lib.display.YouTubeVideo at 0x1b2fcdd8>"
      ]
     },
     "execution_count": 60,
     "metadata": {},
     "output_type": "execute_result"
    }
   ],
   "source": [
    "from IPython.display import YouTubeVideo\n",
    "YouTubeVideo(id=\"LbBcuZukCAw\", width=600, height=400)"
   ]
  },
  {
   "cell_type": "code",
   "execution_count": 28,
   "metadata": {},
   "outputs": [
    {
     "data": {
      "text/latex": [
       "$$\\left[\\begin{matrix}\\frac{\\partial^{2}}{\\partial x^{2}} f{\\left (x,y,z \\right )} & \\frac{\\partial^{2}}{\\partial y\\partial x} f{\\left (x,y,z \\right )} & \\frac{\\partial^{2}}{\\partial z\\partial x} f{\\left (x,y,z \\right )}\\\\\\frac{\\partial^{2}}{\\partial y\\partial x} f{\\left (x,y,z \\right )} & \\frac{\\partial^{2}}{\\partial y^{2}} f{\\left (x,y,z \\right )} & \\frac{\\partial^{2}}{\\partial z\\partial y} f{\\left (x,y,z \\right )}\\\\\\frac{\\partial^{2}}{\\partial z\\partial x} f{\\left (x,y,z \\right )} & \\frac{\\partial^{2}}{\\partial z\\partial y} f{\\left (x,y,z \\right )} & \\frac{\\partial^{2}}{\\partial z^{2}} f{\\left (x,y,z \\right )}\\end{matrix}\\right]$$"
      ],
      "text/plain": [
       "⎡   2                  2                  2             ⎤\n",
       "⎢  ∂                  ∂                  ∂              ⎥\n",
       "⎢ ───(f(x, y, z))   ─────(f(x, y, z))  ─────(f(x, y, z))⎥\n",
       "⎢   2               ∂y ∂x              ∂z ∂x            ⎥\n",
       "⎢ ∂x                                                    ⎥\n",
       "⎢                                                       ⎥\n",
       "⎢   2                  2                  2             ⎥\n",
       "⎢  ∂                  ∂                  ∂              ⎥\n",
       "⎢─────(f(x, y, z))   ───(f(x, y, z))   ─────(f(x, y, z))⎥\n",
       "⎢∂y ∂x                 2               ∂z ∂y            ⎥\n",
       "⎢                    ∂y                                 ⎥\n",
       "⎢                                                       ⎥\n",
       "⎢   2                  2                  2             ⎥\n",
       "⎢  ∂                  ∂                  ∂              ⎥\n",
       "⎢─────(f(x, y, z))  ─────(f(x, y, z))   ───(f(x, y, z)) ⎥\n",
       "⎢∂z ∂x              ∂z ∂y                 2             ⎥\n",
       "⎣                                       ∂z              ⎦"
      ]
     },
     "execution_count": 28,
     "metadata": {},
     "output_type": "execute_result"
    }
   ],
   "source": [
    "x, y, z= sympy.symbols(\"x, y, z\")\n",
    "f = sympy.Function(\"f\")(x, y, z)\n",
    "f_hessian = [[f.diff(x_, y_) for x_ in (x, y, z)] for y_ in (x, y, z)]\n",
    "H = sympy.Matrix(f_hessian)\n",
    "H"
   ]
  },
  {
   "cell_type": "markdown",
   "metadata": {},
   "source": [
    "### Expressing a quadratic form with a matrix"
   ]
  },
  {
   "cell_type": "code",
   "execution_count": 59,
   "metadata": {},
   "outputs": [
    {
     "data": {
      "text/html": [
       "\n",
       "        <iframe\n",
       "            width=\"600\"\n",
       "            height=\"400\"\n",
       "            src=\"https://www.youtube.com/embed/0yEiCV-xEWQ\"\n",
       "            frameborder=\"0\"\n",
       "            allowfullscreen\n",
       "        ></iframe>\n",
       "        "
      ],
      "text/plain": [
       "<IPython.lib.display.YouTubeVideo at 0x1b510e80>"
      ]
     },
     "execution_count": 59,
     "metadata": {},
     "output_type": "execute_result"
    }
   ],
   "source": [
    "YouTubeVideo(id=\"0yEiCV-xEWQ\", width=600, height=400)"
   ]
  },
  {
   "cell_type": "code",
   "execution_count": 3,
   "metadata": {},
   "outputs": [
    {
     "data": {
      "text/latex": [
       "$$\\left[\\begin{matrix}a x^{2} + 2 b x y + 2 c x z + d y^{2} + 2 e y z + f z^{2}\\end{matrix}\\right]$$"
      ],
      "text/plain": [
       "⎡   2                          2                2⎤\n",
       "⎣a⋅x  + 2⋅b⋅x⋅y + 2⋅c⋅x⋅z + d⋅y  + 2⋅e⋅y⋅z + f⋅z ⎦"
      ]
     },
     "execution_count": 3,
     "metadata": {},
     "output_type": "execute_result"
    }
   ],
   "source": [
    "a, b, c, d, e, f= sympy.symbols(\"a, b, c, d, e, f\")\n",
    "v = sympy.Matrix([x, y, z])\n",
    "m = sympy.Matrix([[a, b, c], [b, d, e], [c, e, f]])\n",
    "sympy.expand(v.T * m * v)"
   ]
  },
  {
   "cell_type": "markdown",
   "metadata": {},
   "source": [
    "### Vector form of multivariable quadratic approximation"
   ]
  },
  {
   "cell_type": "code",
   "execution_count": 58,
   "metadata": {},
   "outputs": [
    {
     "data": {
      "text/html": [
       "\n",
       "        <iframe\n",
       "            width=\"600\"\n",
       "            height=\"400\"\n",
       "            src=\"https://www.youtube.com/embed/ClFrIg0PpnM\"\n",
       "            frameborder=\"0\"\n",
       "            allowfullscreen\n",
       "        ></iframe>\n",
       "        "
      ],
      "text/plain": [
       "<IPython.lib.display.YouTubeVideo at 0x1b510860>"
      ]
     },
     "execution_count": 58,
     "metadata": {},
     "output_type": "execute_result"
    }
   ],
   "source": [
    "YouTubeVideo(id=\"ClFrIg0PpnM\", width=600, height=400)"
   ]
  },
  {
   "cell_type": "code",
   "execution_count": 57,
   "metadata": {},
   "outputs": [
    {
     "data": {
      "image/png": "[encoded data removed]",
      "text/latex": [
       "$$\\left(x - x_{0}\\right) \\left(\\left(0.5 x - 0.5 x_{0}\\right) \\frac{\\partial^{2}}{\\partial x^{2}} f{\\left (x,y,z \\right )} + \\left(0.5 y - 0.5 y_{0}\\right) \\frac{\\partial^{2}}{\\partial y\\partial x} f{\\left (x,y,z \\right )} + \\left(0.5 z - 0.5 z_{0}\\right) \\frac{\\partial^{2}}{\\partial z\\partial x} f{\\left (x,y,z \\right )}\\right) + \\left(x - x_{0}\\right) \\frac{\\partial}{\\partial x_{0}} f{\\left (x_{0},y_{0},z_{0} \\right )} + \\left(y - y_{0}\\right) \\left(\\left(0.5 x - 0.5 x_{0}\\right) \\frac{\\partial^{2}}{\\partial y\\partial x} f{\\left (x,y,z \\right )} + \\left(0.5 y - 0.5 y_{0}\\right) \\frac{\\partial^{2}}{\\partial y^{2}} f{\\left (x,y,z \\right )} + \\left(0.5 z - 0.5 z_{0}\\right) \\frac{\\partial^{2}}{\\partial z\\partial y} f{\\left (x,y,z \\right )}\\right) + \\left(y - y_{0}\\right) \\frac{\\partial}{\\partial y_{0}} f{\\left (x_{0},y_{0},z_{0} \\right )} + \\left(z - z_{0}\\right) \\left(\\left(0.5 x - 0.5 x_{0}\\right) \\frac{\\partial^{2}}{\\partial z\\partial x} f{\\left (x,y,z \\right )} + \\left(0.5 y - 0.5 y_{0}\\right) \\frac{\\partial^{2}}{\\partial z\\partial y} f{\\left (x,y,z \\right )} + \\left(0.5 z - 0.5 z_{0}\\right) \\frac{\\partial^{2}}{\\partial z^{2}} f{\\left (x,y,z \\right )}\\right) + \\left(z - z_{0}\\right) \\frac{\\partial}{\\partial z_{0}} f{\\left (x_{0},y_{0},z_{0} \\right )} + f{\\left (x_{0},y_{0},z_{0} \\right )}$$"
      ],
      "text/plain": [
       "         ⎛                   2                                   2            \n",
       "         ⎜                  ∂                                   ∂             \n",
       "(x - x₀)⋅⎜(0.5⋅x - 0.5⋅x₀)⋅───(f(x, y, z)) + (0.5⋅y - 0.5⋅y₀)⋅─────(f(x, y, z)\n",
       "         ⎜                   2                                ∂y ∂x           \n",
       "         ⎝                 ∂x                                                 \n",
       "\n",
       "                        2             ⎞                                       \n",
       "                       ∂              ⎟             ∂                         \n",
       ") + (0.5⋅z - 0.5⋅z₀)⋅─────(f(x, y, z))⎟ + (x - x₀)⋅───(f(x₀, y₀, z₀)) + (y - y\n",
       "                     ∂z ∂x            ⎟            ∂x₀                        \n",
       "                                      ⎠                                       \n",
       "\n",
       "   ⎛                    2                                   2                 \n",
       "   ⎜                   ∂                                   ∂                  \n",
       "₀)⋅⎜(0.5⋅x - 0.5⋅x₀)⋅─────(f(x, y, z)) + (0.5⋅y - 0.5⋅y₀)⋅───(f(x, y, z)) + (0\n",
       "   ⎜                 ∂y ∂x                                  2                 \n",
       "   ⎝                                                      ∂y                  \n",
       "\n",
       "                  2             ⎞                                          ⎛  \n",
       "                 ∂              ⎟             ∂                            ⎜  \n",
       ".5⋅z - 0.5⋅z₀)⋅─────(f(x, y, z))⎟ + (y - y₀)⋅───(f(x₀, y₀, z₀)) + (z - z₀)⋅⎜(0\n",
       "               ∂z ∂y            ⎟            ∂y₀                           ⎜  \n",
       "                                ⎠                                          ⎝  \n",
       "\n",
       "                  2                                    2                      \n",
       "                 ∂                                    ∂                       \n",
       ".5⋅x - 0.5⋅x₀)⋅─────(f(x, y, z)) + (0.5⋅y - 0.5⋅y₀)⋅─────(f(x, y, z)) + (0.5⋅z\n",
       "               ∂z ∂x                                ∂z ∂y                     \n",
       "                                                                              \n",
       "\n",
       "             2            ⎞                                              \n",
       "            ∂             ⎟             ∂                                \n",
       " - 0.5⋅z₀)⋅───(f(x, y, z))⎟ + (z - z₀)⋅───(f(x₀, y₀, z₀)) + f(x₀, y₀, z₀)\n",
       "             2            ⎟            ∂z₀                               \n",
       "           ∂z             ⎠                                              "
      ]
     },
     "execution_count": 57,
     "metadata": {},
     "output_type": "execute_result"
    }
   ],
   "source": [
    "x0, y0, z0 = sympy.symbols(\"x0, y0, z0\")\n",
    "v = sympy.Matrix([x - x0, y - y0, z - z0])\n",
    "f_grad = sympy.Matrix([f.diff(x), f.diff(y), f.diff(z)])\n",
    "\n",
    "f0 = sympy.Function(\"f\")(x0, y0, z0)\n",
    "f_grad0 = f_grad.subs({\"x\":x0, \"y\":y0, \"z\":z0})\n",
    "H0 = H.subs({\"x\":x0, \"y\":y0, \"z\":z0})\n",
    "Q = f0 + (v.T * f_grad0)[0] + (1/2 * v.T * H * v)[0]\n",
    "Q"
   ]
  },
  {
   "cell_type": "markdown",
   "metadata": {},
   "source": [
    "## Example\n",
    "### $f(x,y)=e^{\\frac x 2}siny$"
   ]
  },
  {
   "cell_type": "code",
   "execution_count": 61,
   "metadata": {},
   "outputs": [
    {
     "data": {
      "text/html": [
       "\n",
       "        <iframe\n",
       "            width=\"600\"\n",
       "            height=\"400\"\n",
       "            src=\"https://www.youtube.com/embed/fW3snxnCPEY\"\n",
       "            frameborder=\"0\"\n",
       "            allowfullscreen\n",
       "        ></iframe>\n",
       "        "
      ],
      "text/plain": [
       "<IPython.lib.display.YouTubeVideo at 0x1b2fc2b0>"
      ]
     },
     "execution_count": 61,
     "metadata": {},
     "output_type": "execute_result"
    }
   ],
   "source": [
    "YouTubeVideo(id=\"fW3snxnCPEY\", width=600, height=400)"
   ]
  },
  {
   "cell_type": "code",
   "execution_count": 4,
   "metadata": {},
   "outputs": [
    {
     "data": {
      "application/vnd.jupyter.widget-view+json": {
       "model_id": "534912e3b00740359b76473007791bb9",
       "version_major": 2,
       "version_minor": 0
      },
      "text/plain": [
       "VBox(children=(Figure(camera=PerspectiveCamera(fov=46.0, position=(0.0, 0.0, 2.0), quaternion=(0.0, 0.0, 0.0, …"
      ]
     },
     "metadata": {},
     "output_type": "display_data"
    }
   ],
   "source": [
    "x0, y0, z0 = [np.array([0.0]), np.array([np.pi/2]), np.array([1.0])]\n",
    "\n",
    "X = np.arange(-6, 6, 0.1)  \n",
    "Y = np.arange(-6, 6, 0.1)  \n",
    "X, Y = np.meshgrid(X, Y) \n",
    "Z = np.exp(X/2) * np.sin(Y)\n",
    "Q = 1 + X/2 + X**2/8 - (Y - np.pi/2)**2 / 2\n",
    "\n",
    "plt3d.figure(screen_capture_enabled=True)\n",
    "plt3d.plot_surface(X, Z, Y, color=\"green\")\n",
    "plt3d.plot_surface(X, Q, Y, color=\"red\")\n",
    "plt3d.scatter(x0, z0, y0, size=8, marker=\"sphere\", color=\"blue\")\n",
    "\n",
    "plt3d.zlabel(\"y\")\n",
    "plt3d.ylabel(\"z\")\n",
    "plt3d.show()"
   ]
  },
  {
   "cell_type": "code",
   "execution_count": 68,
   "metadata": {
    "scrolled": true
   },
   "outputs": [
    {
     "data": {
      "text/latex": [
       "$$\\left[\\begin{matrix}\\frac{e^{\\frac{x}{2}} \\sin{\\left (y \\right )}}{2}\\\\e^{\\frac{x}{2}} \\cos{\\left (y \\right )}\\end{matrix}\\right]$$"
      ],
      "text/plain": [
       "⎡ x       ⎤\n",
       "⎢ ─       ⎥\n",
       "⎢ 2       ⎥\n",
       "⎢ℯ ⋅sin(y)⎥\n",
       "⎢─────────⎥\n",
       "⎢    2    ⎥\n",
       "⎢         ⎥\n",
       "⎢ x       ⎥\n",
       "⎢ ─       ⎥\n",
       "⎢ 2       ⎥\n",
       "⎣ℯ ⋅cos(y)⎦"
      ]
     },
     "execution_count": 68,
     "metadata": {},
     "output_type": "execute_result"
    }
   ],
   "source": [
    "x, y = sympy.symbols(\"x, y\")\n",
    "f = sympy.exp(x/2) * sympy.sin(y)\n",
    "f_grad = sympy.Matrix([f.diff(x), f.diff(y)])\n",
    "f_grad"
   ]
  },
  {
   "cell_type": "code",
   "execution_count": 69,
   "metadata": {},
   "outputs": [
    {
     "data": {
      "text/latex": [
       "$$\\left[\\begin{matrix}\\frac{e^{\\frac{x}{2}} \\sin{\\left (y \\right )}}{4} & \\frac{e^{\\frac{x}{2}} \\cos{\\left (y \\right )}}{2}\\\\\\frac{e^{\\frac{x}{2}} \\cos{\\left (y \\right )}}{2} & - e^{\\frac{x}{2}} \\sin{\\left (y \\right )}\\end{matrix}\\right]$$"
      ],
      "text/plain": [
       "⎡ x          x        ⎤\n",
       "⎢ ─          ─        ⎥\n",
       "⎢ 2          2        ⎥\n",
       "⎢ℯ ⋅sin(y)  ℯ ⋅cos(y) ⎥\n",
       "⎢─────────  ───────── ⎥\n",
       "⎢    4          2     ⎥\n",
       "⎢                     ⎥\n",
       "⎢ x                   ⎥\n",
       "⎢ ─           x       ⎥\n",
       "⎢ 2           ─       ⎥\n",
       "⎢ℯ ⋅cos(y)    2       ⎥\n",
       "⎢─────────  -ℯ ⋅sin(y)⎥\n",
       "⎣    2                ⎦"
      ]
     },
     "execution_count": 69,
     "metadata": {},
     "output_type": "execute_result"
    }
   ],
   "source": [
    "f_hessian = [[f.diff(x_, y_) for x_ in (x, y)] for y_ in (x, y)]\n",
    "hessian = sympy.Matrix(f_hessian)\n",
    "hessian"
   ]
  },
  {
   "cell_type": "code",
   "execution_count": 72,
   "metadata": {},
   "outputs": [],
   "source": [
    "f0 = f.subs({\"x\":0, \"y\":sympy.pi / 2})\n",
    "f_grad0 = f_grad.subs({\"x\":0, \"y\":sympy.pi / 2})\n",
    "H0 = hessian.subs({\"x\":0, \"y\":sympy.pi / 2})"
   ]
  },
  {
   "cell_type": "code",
   "execution_count": 75,
   "metadata": {},
   "outputs": [
    {
     "data": {
      "image/png": "[encoded data removed]",
      "text/latex": [
       "$$0.125 x^{2} + \\frac{x}{2} - \\frac{\\left(0.5 y - 0.25 \\pi\\right) \\left(2 y - \\pi\\right)}{2} + 1$$"
      ],
      "text/plain": [
       "       2   x   (0.5⋅y - 0.25⋅π)⋅(2⋅y - π)    \n",
       "0.125⋅x  + ─ - ────────────────────────── + 1\n",
       "           2               2                 "
      ]
     },
     "execution_count": 75,
     "metadata": {},
     "output_type": "execute_result"
    }
   ],
   "source": [
    "Q = f0 + (v.T * f_grad0)[0] + (1/2 * v.T * H0 * v)[0]\n",
    "sympy.simplify(Q)"
   ]
  }
 ],
 "metadata": {
  "kernelspec": {
   "display_name": "Python 3",
   "language": "python",
   "name": "python3"
  },
  "language_info": {
   "codemirror_mode": {
    "name": "ipython",
    "version": 3
   },
   "file_extension": ".py",
   "mimetype": "text/x-python",
   "name": "python",
   "nbconvert_exporter": "python",
   "pygments_lexer": "ipython3",
   "version": "3.6.8"
  }
 },
 "nbformat": 4,
 "nbformat_minor": 2
}
