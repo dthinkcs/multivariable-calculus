{
 "cells": [
  {
   "cell_type": "markdown",
   "metadata": {},
   "source": [
    "### $f(x,y)=3x^2y-y^3-3x^2-3y^2$\n",
    "1. find its critical points\n",
    "2. classify them"
   ]
  },
  {
   "cell_type": "code",
   "execution_count": 1,
   "metadata": {},
   "outputs": [
    {
     "data": {
      "text/html": [
       "\n",
       "        <iframe\n",
       "            width=\"600\"\n",
       "            height=\"400\"\n",
       "            src=\"https://www.youtube.com/embed/shWXeUn5BHk\"\n",
       "            frameborder=\"0\"\n",
       "            allowfullscreen\n",
       "        ></iframe>\n",
       "        "
      ],
      "text/plain": [
       "<IPython.lib.display.YouTubeVideo at 0x4e9f2e8>"
      ]
     },
     "execution_count": 1,
     "metadata": {},
     "output_type": "execute_result"
    }
   ],
   "source": [
    "from IPython.display import YouTubeVideo\n",
    "YouTubeVideo(id=\"shWXeUn5BHk\", width=600, height=400)"
   ]
  },
  {
   "cell_type": "code",
   "execution_count": 1,
   "metadata": {},
   "outputs": [
    {
     "data": {
      "application/vnd.jupyter.widget-view+json": {
       "model_id": "1da7be62dff243008a1bf1fd749f5e84",
       "version_major": 2,
       "version_minor": 0
      },
      "text/plain": [
       "VBox(children=(Figure(camera=PerspectiveCamera(fov=46.0, position=(0.0, 0.0, 2.0), quaternion=(0.0, 0.0, 0.0, …"
      ]
     },
     "metadata": {},
     "output_type": "display_data"
    }
   ],
   "source": [
    "import numpy as np\n",
    "import ipyvolume as ipv\n",
    "import ipyvolume.pylab as plt3d\n",
    "\n",
    "X = np.arange(-10, 10, 0.1)  \n",
    "Y = np.arange(-10, 10, 0.1)  \n",
    "X, Y = np.meshgrid(X, Y) \n",
    "Z = 3*X**2*Y - Y**3 - 3*X**2 - 3*Y**2\n",
    "\n",
    "plt3d.figure(screen_capture_enabled=True)\n",
    "\n",
    "plt3d.plot_surface(X, Z, Y, color=\"green\")\n",
    "#ipv.quickscatter(1., 1., 0.)\n",
    "\n",
    "plt3d.zlabel(\"y\")\n",
    "plt3d.ylabel(\"z\")\n",
    "plt3d.show()"
   ]
  },
  {
   "cell_type": "markdown",
   "metadata": {},
   "source": [
    "### Symbolic solution"
   ]
  },
  {
   "cell_type": "code",
   "execution_count": 3,
   "metadata": {},
   "outputs": [
    {
     "data": {
      "image/png": "[encoded data removed]",
      "text/latex": [
       "$$3 x^{2} y - 3 x^{2} - y^{3} - 3 y^{2}$$"
      ],
      "text/plain": [
       "   2        2    3      2\n",
       "3⋅x ⋅y - 3⋅x  - y  - 3⋅y "
      ]
     },
     "execution_count": 3,
     "metadata": {},
     "output_type": "execute_result"
    }
   ],
   "source": [
    "import sympy\n",
    "sympy.init_printing()\n",
    "\n",
    "x, y = sympy.symbols(\"x, y\")\n",
    "f = 3*x**2*y - y**3 - 3*x**2 - 3*y**2\n",
    "f"
   ]
  },
  {
   "cell_type": "markdown",
   "metadata": {},
   "source": [
    "**1.find its critical points**"
   ]
  },
  {
   "cell_type": "code",
   "execution_count": 4,
   "metadata": {
    "scrolled": true
   },
   "outputs": [
    {
     "data": {
      "image/png": "[encoded data removed]",
      "text/latex": [
       "$$\\left [ \\left ( 0, \\quad -2\\right ), \\quad \\left ( 0, \\quad 0\\right ), \\quad \\left ( - \\sqrt{3}, \\quad 1\\right ), \\quad \\left ( \\sqrt{3}, \\quad 1\\right )\\right ]$$"
      ],
      "text/plain": [
       "[(0, -2), (0, 0), (-√3, 1), (√3, 1)]"
      ]
     },
     "execution_count": 4,
     "metadata": {},
     "output_type": "execute_result"
    }
   ],
   "source": [
    "f_grad = [f.diff(i) for i in (x,y)]\n",
    "ciric_points = sympy.solve(f_grad, (x,y))\n",
    "ciric_points"
   ]
  },
  {
   "cell_type": "markdown",
   "metadata": {},
   "source": [
    "**2.classify its critical points using second derivative test**"
   ]
  },
  {
   "cell_type": "code",
   "execution_count": 5,
   "metadata": {},
   "outputs": [
    {
     "data": {
      "image/png": "[encoded data removed]",
      "text/latex": [
       "$$- 36 x^{2} - 36 y^{2} + 36$$"
      ],
      "text/plain": [
       "      2       2     \n",
       "- 36⋅x  - 36⋅y  + 36"
      ]
     },
     "execution_count": 5,
     "metadata": {},
     "output_type": "execute_result"
    }
   ],
   "source": [
    "f_hessian = [[f.diff(x_, y_) for x_ in (x, y)] for y_ in (x, y)]\n",
    "f_hessian = sympy.Matrix(f_hessian)\n",
    "hessian_det = f_hessian.det() # test fomular\n",
    "hessian_det"
   ]
  },
  {
   "cell_type": "code",
   "execution_count": 6,
   "metadata": {},
   "outputs": [
    {
     "data": {
      "image/png": "[encoded data removed]",
      "text/latex": [
       "$$\\left [ -108, \\quad 36, \\quad -108, \\quad -108\\right ]$$"
      ],
      "text/plain": [
       "[-108, 36, -108, -108]"
      ]
     },
     "execution_count": 6,
     "metadata": {},
     "output_type": "execute_result"
    }
   ],
   "source": [
    "ciric_points_dict = [{x:i[0], y:i[1]} for i in ciric_points]\n",
    "sec_deriv_test = [hessian_det.subs(cp) for cp in ciric_points_dict]\n",
    "sec_deriv_test"
   ]
  },
  {
   "cell_type": "code",
   "execution_count": 8,
   "metadata": {},
   "outputs": [
    {
     "name": "stdout",
     "output_type": "stream",
     "text": [
      "Saddle Points: [[0 -2]\n",
      " [-sqrt(3) 1]\n",
      " [sqrt(3) 1]] \n",
      " Local maximum points: [[0 0]]\n"
     ]
    }
   ],
   "source": [
    "sec_deriv_test1 = np.array(sec_deriv_test)\n",
    "ciric_points1 = np.array(ciric_points)\n",
    "saddle_points = ciric_points1[np.where(sec_deriv_test1 < 0)]\n",
    "local_points = ciric_points1[np.where(sec_deriv_test1 > 0)]\n",
    "print(\"Saddle Points: {} \\n Local maximum points: {}\".format(saddle_points, local_points))"
   ]
  },
  {
   "cell_type": "code",
   "execution_count": 9,
   "metadata": {},
   "outputs": [
    {
     "data": {
      "application/vnd.jupyter.widget-view+json": {
       "model_id": "928a6f48644248f58b0e631ce87ba1ea",
       "version_major": 2,
       "version_minor": 0
      },
      "text/plain": [
       "VBox(children=(Figure(camera=PerspectiveCamera(fov=46.0, position=(0.0, 0.0, 2.0), quaternion=(0.0, 0.0, 0.0, …"
      ]
     },
     "metadata": {},
     "output_type": "display_data"
    }
   ],
   "source": [
    "X = np.arange(-10, 10, 0.1)  \n",
    "Y = np.arange(-10, 10, 0.1)  \n",
    "X, Y = np.meshgrid(X, Y) \n",
    "Z = 3*X**2*Y - Y**3 - 3*X**2 - 3*Y**2\n",
    "\n",
    "x_sad = saddle_points[:,0].astype(float)\n",
    "y_sad = saddle_points[:,1].astype(float)\n",
    "z_sad = 3*x_sad**2*y_sad - y_sad**3 - 3*x_sad**2 - 3*y_sad**2\n",
    "\n",
    "plt3d.figure(screen_capture_enabled=True)\n",
    "plt3d.scatter(x_sad, z_sad, y_sad, size=5, marker=\"sphere\", color='blue')\n",
    "plt3d.scatter(np.array([0.]), np.array([0.]), np.array([0.]), size=5, marker=\"diamond\")\n",
    "plt3d.plot_surface(X, Z, Y, color=\"green\")\n",
    "\n",
    "plt3d.zlabel(\"y\")\n",
    "plt3d.ylabel(\"z\")\n",
    "plt3d.show()"
   ]
  },
  {
   "cell_type": "markdown",
   "metadata": {},
   "source": [
    "### Numerical solution"
   ]
  },
  {
   "cell_type": "code",
   "execution_count": null,
   "metadata": {},
   "outputs": [],
   "source": [
    "from scipy import optimize\n",
    "\n",
    "x, y = sympy.symbols(\"x, y\")\n",
    "f = 3*x**2*y - y**3 - 3*x**2 - 3*y**2\n",
    "f_grad = [f.diff(i) for i in (x, y)]\n",
    "f_hess = [[f.diff(i, j) for i in (x, y)] for j in (x, y)]\n",
    "\n",
    "f_lamb = sympy.lambdify((x, y), f, 'numpy')\n",
    "fgrad_lamb = sympy.lambdify((x, y), f_grad, 'numpy')\n",
    "fhess_lamb = sympy.lambdify((x, y), f_hess, 'numpy')"
   ]
  },
  {
   "cell_type": "code",
   "execution_count": 23,
   "metadata": {},
   "outputs": [],
   "source": [
    "def func_XY_to_X_Y(f):\n",
    "    return lambda X: np.array(f(X[0], X[1]))"
   ]
  },
  {
   "cell_type": "code",
   "execution_count": 24,
   "metadata": {},
   "outputs": [],
   "source": [
    "f1 = func_XY_to_X_Y(f_lamb)\n",
    "f_grad1 = func_XY_to_X_Y(fgrad_lamb)\n",
    "f_hess1 = func_XY_to_X_Y(fhess_lamb)"
   ]
  },
  {
   "cell_type": "markdown",
   "metadata": {},
   "source": [
    "Newton’s method:"
   ]
  },
  {
   "cell_type": "code",
   "execution_count": 29,
   "metadata": {},
   "outputs": [
    {
     "name": "stdout",
     "output_type": "stream",
     "text": [
      "Optimization terminated successfully.\n",
      "         Current function value: 0.000000\n",
      "         Iterations: 1\n",
      "         Function evaluations: 2\n",
      "         Gradient evaluations: 2\n",
      "         Hessian evaluations: 1\n"
     ]
    }
   ],
   "source": [
    "x_opt = optimize.fmin_ncg(f1, (0, 0), fprime=f_grad1, fhess=f_hess1)"
   ]
  },
  {
   "cell_type": "code",
   "execution_count": 30,
   "metadata": {},
   "outputs": [
    {
     "data": {
      "text/plain": [
       "array([0., 0.])"
      ]
     },
     "execution_count": 30,
     "metadata": {},
     "output_type": "execute_result"
    }
   ],
   "source": [
    "x_opt"
   ]
  },
  {
   "cell_type": "markdown",
   "metadata": {},
   "source": [
    "quasi-Newton methods:"
   ]
  },
  {
   "cell_type": "code",
   "execution_count": 32,
   "metadata": {},
   "outputs": [
    {
     "name": "stdout",
     "output_type": "stream",
     "text": [
      "Optimization terminated successfully.\n",
      "         Current function value: 0.000000\n",
      "         Iterations: 0\n",
      "         Function evaluations: 1\n",
      "         Gradient evaluations: 1\n"
     ]
    }
   ],
   "source": [
    "x_opt1 = optimize.fmin_bfgs(f1, (0, 0), fprime=f_grad1)"
   ]
  },
  {
   "cell_type": "code",
   "execution_count": 33,
   "metadata": {},
   "outputs": [
    {
     "data": {
      "text/plain": [
       "array([0, 0])"
      ]
     },
     "execution_count": 33,
     "metadata": {},
     "output_type": "execute_result"
    }
   ],
   "source": [
    "x_opt1"
   ]
  },
  {
   "cell_type": "markdown",
   "metadata": {},
   "source": [
    " conjugate-gradient methods:"
   ]
  },
  {
   "cell_type": "code",
   "execution_count": 35,
   "metadata": {},
   "outputs": [
    {
     "name": "stdout",
     "output_type": "stream",
     "text": [
      "Optimization terminated successfully.\n",
      "         Current function value: 0.000000\n",
      "         Iterations: 0\n",
      "         Function evaluations: 1\n",
      "         Gradient evaluations: 1\n"
     ]
    }
   ],
   "source": [
    "x_opt2 = optimize.fmin_cg(f1, (0, 0), fprime=f_grad1)"
   ]
  },
  {
   "cell_type": "code",
   "execution_count": 36,
   "metadata": {},
   "outputs": [
    {
     "data": {
      "text/plain": [
       "array([0, 0])"
      ]
     },
     "execution_count": 36,
     "metadata": {},
     "output_type": "execute_result"
    }
   ],
   "source": [
    "x_opt2"
   ]
  }
 ],
 "metadata": {
  "kernelspec": {
   "display_name": "Python 3",
   "language": "python",
   "name": "python3"
  },
  "language_info": {
   "codemirror_mode": {
    "name": "ipython",
    "version": 3
   },
   "file_extension": ".py",
   "mimetype": "text/x-python",
   "name": "python",
   "nbconvert_exporter": "python",
   "pygments_lexer": "ipython3",
   "version": "3.6.8"
  }
 },
 "nbformat": 4,
 "nbformat_minor": 2
}
