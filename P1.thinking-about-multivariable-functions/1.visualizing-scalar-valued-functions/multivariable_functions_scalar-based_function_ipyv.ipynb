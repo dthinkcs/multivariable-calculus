{
 "cells": [
  {
   "cell_type": "code",
   "execution_count": 1,
   "metadata": {},
   "outputs": [
    {
     "data": {
      "text/html": [
       "\n",
       "        <iframe\n",
       "            width=\"600\"\n",
       "            height=\"400\"\n",
       "            src=\"https://www.youtube.com/embed/WsZj5Rb6do8\"\n",
       "            frameborder=\"0\"\n",
       "            allowfullscreen\n",
       "        ></iframe>\n",
       "        "
      ],
      "text/plain": [
       "<IPython.lib.display.YouTubeVideo at 0x4f4b2e8>"
      ]
     },
     "execution_count": 1,
     "metadata": {},
     "output_type": "execute_result"
    }
   ],
   "source": [
    "from IPython.display import YouTubeVideo\n",
    "YouTubeVideo(id=\"WsZj5Rb6do8\", width=600, height=400)"
   ]
  },
  {
   "cell_type": "code",
   "execution_count": 5,
   "metadata": {},
   "outputs": [],
   "source": [
    "import numpy as np\n",
    "import ipyvolume as ipv\n",
    "import ipyvolume.pylab as plt3d"
   ]
  },
  {
   "cell_type": "markdown",
   "metadata": {},
   "source": [
    "# Scalar-based Function "
   ]
  },
  {
   "cell_type": "markdown",
   "metadata": {},
   "source": [
    "### 1. $f(x,y)=x+y$"
   ]
  },
  {
   "cell_type": "code",
   "execution_count": 6,
   "metadata": {},
   "outputs": [
    {
     "data": {
      "application/vnd.jupyter.widget-view+json": {
       "model_id": "93d1d872678143b6805c17e2a2d3ac93",
       "version_major": 2,
       "version_minor": 0
      },
      "text/plain": [
       "VBox(children=(Figure(camera=PerspectiveCamera(fov=46.0, position=(0.0, 0.0, 2.0), quaternion=(0.0, 0.0, 0.0, …"
      ]
     },
     "metadata": {},
     "output_type": "display_data"
    }
   ],
   "source": [
    "X = np.arange(-3, 3, 0.1)  \n",
    "Y = np.arange(-3, 3, 0.1)  \n",
    "X, Y = np.meshgrid(X, Y) \n",
    "Z = X + Y\n",
    "\n",
    "plt3d.figure(screen_capture_enabled=True)\n",
    "plt3d.plot_surface(X, Z, Y, color=\"green\")\n",
    "plt3d.zlabel(\"y\")\n",
    "plt3d.ylabel(\"z\")\n",
    "plt3d.show()"
   ]
  },
  {
   "cell_type": "markdown",
   "metadata": {},
   "source": [
    "### $f(x,y)=x^2+y^2$"
   ]
  },
  {
   "cell_type": "code",
   "execution_count": 7,
   "metadata": {},
   "outputs": [
    {
     "data": {
      "application/vnd.jupyter.widget-view+json": {
       "model_id": "816bf81fcd7b4cd491548191d63a06e5",
       "version_major": 2,
       "version_minor": 0
      },
      "text/plain": [
       "VBox(children=(Figure(camera=PerspectiveCamera(fov=46.0, position=(0.0, 0.0, 2.0), quaternion=(0.0, 0.0, 0.0, …"
      ]
     },
     "metadata": {},
     "output_type": "display_data"
    }
   ],
   "source": [
    "X = np.arange(-3, 3, 0.1)  \n",
    "Y = np.arange(-3, 3, 0.1)  \n",
    "X, Y = np.meshgrid(X, Y) \n",
    "Z = (X ** 2 + Y ** 2)  \n",
    "\n",
    "plt3d.figure(screen_capture_enabled=True)\n",
    "plt3d.plot_surface(X, Z, Y, color=\"green\")\n",
    "plt3d.zlabel(\"y\")\n",
    "plt3d.ylabel(\"z\")\n",
    "plt3d.show()"
   ]
  },
  {
   "cell_type": "markdown",
   "metadata": {},
   "source": [
    "### 2. $f(x,y)=sin(x+y)$"
   ]
  },
  {
   "cell_type": "code",
   "execution_count": 21,
   "metadata": {},
   "outputs": [
    {
     "data": {
      "application/vnd.jupyter.widget-view+json": {
       "model_id": "e2c1470ad05448d880f25e4b97c7888a",
       "version_major": 2,
       "version_minor": 0
      },
      "text/plain": [
       "VBox(children=(Figure(camera=PerspectiveCamera(fov=46.0, position=(0.0, 0.0, 2.0), quaternion=(0.0, 0.0, 0.0, …"
      ]
     },
     "metadata": {},
     "output_type": "display_data"
    }
   ],
   "source": [
    "X = np.arange(-np.pi, np.pi, 0.1)  \n",
    "Y = np.arange(-np.pi, np.pi, 0.1)  \n",
    "X, Y = np.meshgrid(X, Y)\n",
    "Z = np.sin(X + Y)\n",
    "\n",
    "plt3d.figure(screen_capture_enabled=True)\n",
    "plt3d.plot_surface(X, Z, Y, color=\"red\")\n",
    "plt3d.zlabel(\"y\")\n",
    "plt3d.ylabel(\"z\")\n",
    "plt3d.show()"
   ]
  },
  {
   "cell_type": "markdown",
   "metadata": {},
   "source": [
    "### 3. $f(x,y)=cos(x)sin(y)$"
   ]
  },
  {
   "cell_type": "code",
   "execution_count": 5,
   "metadata": {},
   "outputs": [
    {
     "data": {
      "application/vnd.jupyter.widget-view+json": {
       "model_id": "626b6318c8bf439d896fe3f45823c533",
       "version_major": 2,
       "version_minor": 0
      },
      "text/plain": [
       "VBox(children=(Figure(camera=PerspectiveCamera(fov=46.0, position=(0.0, 0.0, 2.0), quaternion=(0.0, 0.0, 0.0, …"
      ]
     },
     "metadata": {},
     "output_type": "display_data"
    }
   ],
   "source": [
    "X = np.arange(-np.pi, np.pi, 0.1)  \n",
    "Y = np.arange(-np.pi, np.pi, 0.1)  \n",
    "X, Y = np.meshgrid(X, Y)   \n",
    "Z = np.sin(X) * np.cos(Y)\n",
    "\n",
    "plt3d.figure(screen_capture_enabled=True)\n",
    "plt3d.plot_surface(X, Z, Y, color=\"red\")\n",
    "plt3d.zlabel(\"y\")\n",
    "plt3d.ylabel(\"z\")\n",
    "plt3d.show()"
   ]
  },
  {
   "cell_type": "markdown",
   "metadata": {},
   "source": [
    "### 4. $f(x,y)=e^{(x+y)}$"
   ]
  },
  {
   "cell_type": "code",
   "execution_count": 24,
   "metadata": {},
   "outputs": [
    {
     "data": {
      "application/vnd.jupyter.widget-view+json": {
       "model_id": "ca3374a54314440a881808ce3299ced4",
       "version_major": 2,
       "version_minor": 0
      },
      "text/plain": [
       "VBox(children=(Figure(camera=PerspectiveCamera(fov=46.0, position=(0.0, 0.0, 2.0), quaternion=(0.0, 0.0, 0.0, …"
      ]
     },
     "metadata": {},
     "output_type": "display_data"
    }
   ],
   "source": [
    "X = np.arange(-2, 2, 0.1)  \n",
    "Y = np.arange(-2, 2, 0.1)  \n",
    "X, Y = np.meshgrid(X, Y)    \n",
    "Z = np.exp(X + Y)\n",
    "\n",
    "plt3d.figure(screen_capture_enabled=True)\n",
    "plt3d.plot_surface(X, Z, Y, color=\"red\")\n",
    "plt3d.zlabel(\"y\")\n",
    "plt3d.ylabel(\"z\")\n",
    "plt3d.show()"
   ]
  },
  {
   "cell_type": "code",
   "execution_count": null,
   "metadata": {},
   "outputs": [],
   "source": []
  }
 ],
 "metadata": {
  "kernelspec": {
   "display_name": "Python 3",
   "language": "python",
   "name": "python3"
  },
  "language_info": {
   "codemirror_mode": {
    "name": "ipython",
    "version": 3
   },
   "file_extension": ".py",
   "mimetype": "text/x-python",
   "name": "python",
   "nbconvert_exporter": "python",
   "pygments_lexer": "ipython3",
   "version": "3.6.8"
  }
 },
 "nbformat": 4,
 "nbformat_minor": 2
}
