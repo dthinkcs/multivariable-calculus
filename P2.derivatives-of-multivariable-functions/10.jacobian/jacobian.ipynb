{
 "cells": [
  {
   "cell_type": "code",
   "execution_count": 2,
   "metadata": {},
   "outputs": [],
   "source": [
    "import sympy\n",
    "sympy.init_printing()"
   ]
  },
  {
   "cell_type": "markdown",
   "metadata": {},
   "source": [
    "## General Form"
   ]
  },
  {
   "cell_type": "code",
   "execution_count": 21,
   "metadata": {},
   "outputs": [
    {
     "data": {
      "text/html": [
       "\n",
       "        <iframe\n",
       "            width=\"600\"\n",
       "            height=\"400\"\n",
       "            src=\"https://www.youtube.com/embed/bohL918kXQk\"\n",
       "            frameborder=\"0\"\n",
       "            allowfullscreen\n",
       "        ></iframe>\n",
       "        "
      ],
      "text/plain": [
       "<IPython.lib.display.YouTubeVideo at 0x5608eb8>"
      ]
     },
     "execution_count": 21,
     "metadata": {},
     "output_type": "execute_result"
    }
   ],
   "source": [
    "from IPython.display import YouTubeVideo\n",
    "YouTubeVideo(id=\"bohL918kXQk\", width=600, height=400)"
   ]
  },
  {
   "cell_type": "code",
   "execution_count": 25,
   "metadata": {},
   "outputs": [
    {
     "data": {
      "text/latex": [
       "$$\\left[\\begin{matrix}\\operatorname{f_{1}}{\\left (x,y,z \\right )}\\\\\\operatorname{f_{2}}{\\left (x,y,z \\right )}\\end{matrix}\\right]$$"
      ],
      "text/plain": [
       "⎡f₁(x, y, z)⎤\n",
       "⎢           ⎥\n",
       "⎣f₂(x, y, z)⎦"
      ]
     },
     "execution_count": 25,
     "metadata": {},
     "output_type": "execute_result"
    }
   ],
   "source": [
    "x, y, z = sympy.symbols(\"x, y, z\")\n",
    "f1 = sympy.Function('f1')(x, y, z)\n",
    "f2 = sympy.Function('f2')(x, y, z)\n",
    "f = sympy.Matrix([f1, f2])\n",
    "f"
   ]
  },
  {
   "cell_type": "code",
   "execution_count": 36,
   "metadata": {},
   "outputs": [
    {
     "data": {
      "text/latex": [
       "$$\\left[\\begin{matrix}\\frac{\\partial}{\\partial x} \\operatorname{f_{1}}{\\left (x,y,z \\right )} & \\frac{\\partial}{\\partial y} \\operatorname{f_{1}}{\\left (x,y,z \\right )} & \\frac{\\partial}{\\partial z} \\operatorname{f_{1}}{\\left (x,y,z \\right )}\\\\\\frac{\\partial}{\\partial x} \\operatorname{f_{2}}{\\left (x,y,z \\right )} & \\frac{\\partial}{\\partial y} \\operatorname{f_{2}}{\\left (x,y,z \\right )} & \\frac{\\partial}{\\partial z} \\operatorname{f_{2}}{\\left (x,y,z \\right )}\\end{matrix}\\right]$$"
      ],
      "text/plain": [
       "⎡∂                ∂                ∂              ⎤\n",
       "⎢──(f₁(x, y, z))  ──(f₁(x, y, z))  ──(f₁(x, y, z))⎥\n",
       "⎢∂x               ∂y               ∂z             ⎥\n",
       "⎢                                                 ⎥\n",
       "⎢∂                ∂                ∂              ⎥\n",
       "⎢──(f₂(x, y, z))  ──(f₂(x, y, z))  ──(f₂(x, y, z))⎥\n",
       "⎣∂x               ∂y               ∂z             ⎦"
      ]
     },
     "execution_count": 36,
     "metadata": {},
     "output_type": "execute_result"
    }
   ],
   "source": [
    "partial_i = []\n",
    "for x_ in (x, y, z):\n",
    "    for f_ in f:\n",
    "        partial_i.append(f_.diff(x_))\n",
    "        \n",
    "m = len(f)\n",
    "n = len((x, y, z))        \n",
    "jacobian = sympy.Matrix(partial_i).reshape(n, m).T\n",
    "jacobian"
   ]
  },
  {
   "cell_type": "markdown",
   "metadata": {},
   "source": [
    "## Examples\n",
    "### $f(x,y)=\\left[\\begin{matrix}x+sin(y)\\\\y+sin(x)\\end{matrix}\\right]$"
   ]
  },
  {
   "cell_type": "code",
   "execution_count": 22,
   "metadata": {},
   "outputs": [
    {
     "data": {
      "text/html": [
       "\n",
       "        <iframe\n",
       "            width=\"600\"\n",
       "            height=\"400\"\n",
       "            src=\"https://www.youtube.com/embed/CGbBbH1e7Yw\"\n",
       "            frameborder=\"0\"\n",
       "            allowfullscreen\n",
       "        ></iframe>\n",
       "        "
      ],
      "text/plain": [
       "<IPython.lib.display.YouTubeVideo at 0xf0bfef0>"
      ]
     },
     "execution_count": 22,
     "metadata": {},
     "output_type": "execute_result"
    }
   ],
   "source": [
    "YouTubeVideo(id=\"CGbBbH1e7Yw\", width=600, height=400)"
   ]
  },
  {
   "cell_type": "code",
   "execution_count": 7,
   "metadata": {},
   "outputs": [
    {
     "data": {
      "text/latex": [
       "$$\\left[\\begin{matrix}x + \\sin{\\left (y \\right )}\\\\y + \\sin{\\left (x \\right )}\\end{matrix}\\right]$$"
      ],
      "text/plain": [
       "⎡x + sin(y)⎤\n",
       "⎢          ⎥\n",
       "⎣y + sin(x)⎦"
      ]
     },
     "execution_count": 7,
     "metadata": {},
     "output_type": "execute_result"
    }
   ],
   "source": [
    "x, y = sympy.symbols(\"x, y\")\n",
    "f1 = x + sympy.sin(y)\n",
    "f2 = y + sympy.sin(x)\n",
    "f = sympy.Matrix([f1, f2])\n",
    "f"
   ]
  },
  {
   "cell_type": "code",
   "execution_count": 9,
   "metadata": {},
   "outputs": [],
   "source": [
    "f1_grad = [f1.diff(x_) for x_ in (x, y)]\n",
    "f2_grad = [f2.diff(x_) for x_ in (x, y)]"
   ]
  },
  {
   "cell_type": "code",
   "execution_count": 11,
   "metadata": {},
   "outputs": [
    {
     "data": {
      "text/latex": [
       "$$\\left[\\begin{matrix}1 & \\cos{\\left (y \\right )}\\\\\\cos{\\left (x \\right )} & 1\\end{matrix}\\right]$$"
      ],
      "text/plain": [
       "⎡  1     cos(y)⎤\n",
       "⎢              ⎥\n",
       "⎣cos(x)    1   ⎦"
      ]
     },
     "execution_count": 11,
     "metadata": {},
     "output_type": "execute_result"
    }
   ],
   "source": [
    "jacob = sympy.Matrix([f1_grad, f2_grad])\n",
    "jacob"
   ]
  },
  {
   "cell_type": "code",
   "execution_count": 20,
   "metadata": {},
   "outputs": [
    {
     "data": {
      "text/latex": [
       "$$\\left[\\begin{matrix}1 & \\cos{\\left (1 \\right )}\\\\\\cos{\\left (2 \\right )} & 1\\end{matrix}\\right]$$"
      ],
      "text/plain": [
       "⎡  1     cos(1)⎤\n",
       "⎢              ⎥\n",
       "⎣cos(2)    1   ⎦"
      ]
     },
     "execution_count": 20,
     "metadata": {},
     "output_type": "execute_result"
    }
   ],
   "source": [
    "jacob.subs({\"x\": -2, \"y\": 1})"
   ]
  },
  {
   "cell_type": "code",
   "execution_count": null,
   "metadata": {},
   "outputs": [],
   "source": []
  }
 ],
 "metadata": {
  "kernelspec": {
   "display_name": "Python 3",
   "language": "python",
   "name": "python3"
  },
  "language_info": {
   "codemirror_mode": {
    "name": "ipython",
    "version": 3
   },
   "file_extension": ".py",
   "mimetype": "text/x-python",
   "name": "python",
   "nbconvert_exporter": "python",
   "pygments_lexer": "ipython3",
   "version": "3.6.8"
  }
 },
 "nbformat": 4,
 "nbformat_minor": 2
}
