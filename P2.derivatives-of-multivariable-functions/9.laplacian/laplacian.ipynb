{
 "cells": [
  {
   "cell_type": "code",
   "execution_count": 49,
   "metadata": {},
   "outputs": [],
   "source": [
    "import sympy\n",
    "sympy.init_printing()"
   ]
  },
  {
   "cell_type": "markdown",
   "metadata": {},
   "source": [
    "## Laplacian Formula"
   ]
  },
  {
   "cell_type": "code",
   "execution_count": 1,
   "metadata": {},
   "outputs": [
    {
     "data": {
      "text/html": [
       "\n",
       "        <iframe\n",
       "            width=\"600\"\n",
       "            height=\"400\"\n",
       "            src=\"https://www.youtube.com/embed/6cMn1F6bNPU\"\n",
       "            frameborder=\"0\"\n",
       "            allowfullscreen\n",
       "        ></iframe>\n",
       "        "
      ],
      "text/plain": [
       "<IPython.lib.display.YouTubeVideo at 0x4e9c2b0>"
      ]
     },
     "execution_count": 1,
     "metadata": {},
     "output_type": "execute_result"
    }
   ],
   "source": [
    "from IPython.display import YouTubeVideo\n",
    "YouTubeVideo(id=\"6cMn1F6bNPU\", width=600, height=400)"
   ]
  },
  {
   "cell_type": "code",
   "execution_count": 50,
   "metadata": {},
   "outputs": [
    {
     "data": {
      "text/latex": [
       "$$\\left[\\begin{matrix}\\frac{\\partial}{\\partial x} f{\\left (x,y,z \\right )}\\\\\\frac{\\partial}{\\partial y} f{\\left (x,y,z \\right )}\\\\\\frac{\\partial}{\\partial z} f{\\left (x,y,z \\right )}\\end{matrix}\\right]$$"
      ],
      "text/plain": [
       "⎡∂             ⎤\n",
       "⎢──(f(x, y, z))⎥\n",
       "⎢∂x            ⎥\n",
       "⎢              ⎥\n",
       "⎢∂             ⎥\n",
       "⎢──(f(x, y, z))⎥\n",
       "⎢∂y            ⎥\n",
       "⎢              ⎥\n",
       "⎢∂             ⎥\n",
       "⎢──(f(x, y, z))⎥\n",
       "⎣∂z            ⎦"
      ]
     },
     "execution_count": 50,
     "metadata": {},
     "output_type": "execute_result"
    }
   ],
   "source": [
    "x, y, z = sympy.symbols(\"x, y, z\")\n",
    "f = sympy.Function(\"f\")(x, y, z)\n",
    "f_grad = [f.diff(x_) for x_ in (x, y, z)]\n",
    "sympy.Matrix(f_grad)"
   ]
  },
  {
   "cell_type": "code",
   "execution_count": 62,
   "metadata": {},
   "outputs": [
    {
     "data": {
      "image/png": "[encoded data removed]",
      "text/latex": [
       "$$\\frac{\\partial^{2}}{\\partial x^{2}}  f{\\left (x,y,z \\right )} + \\frac{\\partial^{2}}{\\partial y^{2}}  f{\\left (x,y,z \\right )} + \\frac{\\partial^{2}}{\\partial z^{2}}  f{\\left (x,y,z \\right )}$$"
      ],
      "text/plain": [
       "  2                 2                 2            \n",
       " ∂                 ∂                 ∂             \n",
       "───(f(x, y, z)) + ───(f(x, y, z)) + ───(f(x, y, z))\n",
       "  2                 2                 2            \n",
       "∂x                ∂y                ∂z             "
      ]
     },
     "execution_count": 62,
     "metadata": {},
     "output_type": "execute_result"
    }
   ],
   "source": [
    "laplacian = 0\n",
    "for grad in f_grad:\n",
    "    laplacian += grad.diff(grad.args[1])\n",
    "\n",
    "laplacian"
   ]
  },
  {
   "cell_type": "markdown",
   "metadata": {},
   "source": [
    "## Examples"
   ]
  },
  {
   "cell_type": "markdown",
   "metadata": {},
   "source": [
    "### $f(x,y)=3+cos(\\frac x 2)sin(\\frac y 2)$"
   ]
  },
  {
   "cell_type": "code",
   "execution_count": 2,
   "metadata": {},
   "outputs": [
    {
     "data": {
      "text/html": [
       "\n",
       "        <iframe\n",
       "            width=\"600\"\n",
       "            height=\"400\"\n",
       "            src=\"https://www.youtube.com/embed/XbCvGRjjzgg\"\n",
       "            frameborder=\"0\"\n",
       "            allowfullscreen\n",
       "        ></iframe>\n",
       "        "
      ],
      "text/plain": [
       "<IPython.lib.display.YouTubeVideo at 0x4e9c208>"
      ]
     },
     "execution_count": 2,
     "metadata": {},
     "output_type": "execute_result"
    }
   ],
   "source": [
    "YouTubeVideo(id=\"XbCvGRjjzgg\", width=600, height=400)"
   ]
  },
  {
   "cell_type": "code",
   "execution_count": 47,
   "metadata": {},
   "outputs": [
    {
     "data": {
      "text/latex": [
       "$$\\left[\\begin{matrix}- \\frac{1}{2} \\sin{\\left (\\frac{x}{2} \\right )} \\sin{\\left (\\frac{y}{2} \\right )}\\\\\\frac{1}{2} \\cos{\\left (\\frac{x}{2} \\right )} \\cos{\\left (\\frac{y}{2} \\right )}\\end{matrix}\\right]$$"
      ],
      "text/plain": [
       "⎡    ⎛x⎞    ⎛y⎞ ⎤\n",
       "⎢-sin⎜─⎟⋅sin⎜─⎟ ⎥\n",
       "⎢    ⎝2⎠    ⎝2⎠ ⎥\n",
       "⎢───────────────⎥\n",
       "⎢       2       ⎥\n",
       "⎢               ⎥\n",
       "⎢    ⎛x⎞    ⎛y⎞ ⎥\n",
       "⎢ cos⎜─⎟⋅cos⎜─⎟ ⎥\n",
       "⎢    ⎝2⎠    ⎝2⎠ ⎥\n",
       "⎢ ───────────── ⎥\n",
       "⎣       2       ⎦"
      ]
     },
     "execution_count": 47,
     "metadata": {},
     "output_type": "execute_result"
    }
   ],
   "source": [
    "x, y = sympy.symbols(\"x, y\")\n",
    "f = 3 + sympy.cos(x/2) * sympy.sin(y/2)\n",
    "f_grad = [f.diff(x_) for x_ in (x, y)]\n",
    "sympy.Matrix(f_grad)"
   ]
  },
  {
   "cell_type": "code",
   "execution_count": 34,
   "metadata": {},
   "outputs": [
    {
     "data": {
      "image/png": "[encoded data removed]",
      "text/latex": [
       "$$- \\frac{1}{2} \\sin{\\left (\\frac{y}{2} \\right )} \\cos{\\left (\\frac{x}{2} \\right )}$$"
      ],
      "text/plain": [
       "    ⎛y⎞    ⎛x⎞ \n",
       "-sin⎜─⎟⋅cos⎜─⎟ \n",
       "    ⎝2⎠    ⎝2⎠ \n",
       "───────────────\n",
       "       2       "
      ]
     },
     "execution_count": 34,
     "metadata": {},
     "output_type": "execute_result"
    }
   ],
   "source": [
    "laplacian = f_grad[0].diff(x) + f_grad[1].diff(y)\n",
    "laplacian"
   ]
  }
 ],
 "metadata": {
  "kernelspec": {
   "display_name": "Python 3",
   "language": "python",
   "name": "python3"
  },
  "language_info": {
   "codemirror_mode": {
    "name": "ipython",
    "version": 3
   },
   "file_extension": ".py",
   "mimetype": "text/x-python",
   "name": "python",
   "nbconvert_exporter": "python",
   "pygments_lexer": "ipython3",
   "version": "3.6.8"
  }
 },
 "nbformat": 4,
 "nbformat_minor": 2
}
