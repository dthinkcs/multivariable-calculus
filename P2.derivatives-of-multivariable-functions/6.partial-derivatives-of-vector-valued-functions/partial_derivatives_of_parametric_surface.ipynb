{
 "cells": [
  {
   "cell_type": "markdown",
   "metadata": {},
   "source": [
    "## Partial derivatives of parametric surface"
   ]
  },
  {
   "cell_type": "markdown",
   "metadata": {},
   "source": [
    "### $\\vec V(t,s)=\\bigg [\\begin{matrix} t^2-s^2 \\\\ st \\\\ ts^2-st^2 \\end{matrix} \\bigg]$"
   ]
  },
  {
   "cell_type": "code",
   "execution_count": 3,
   "metadata": {},
   "outputs": [
    {
     "data": {
      "text/html": [
       "\n",
       "        <iframe\n",
       "            width=\"600\"\n",
       "            height=\"400\"\n",
       "            src=\"https://www.youtube.com/embed/e7Nel0UoXR8\"\n",
       "            frameborder=\"0\"\n",
       "            allowfullscreen\n",
       "        ></iframe>\n",
       "        "
      ],
      "text/plain": [
       "<IPython.lib.display.YouTubeVideo at 0x5294588>"
      ]
     },
     "execution_count": 3,
     "metadata": {},
     "output_type": "execute_result"
    }
   ],
   "source": [
    "from IPython.display import YouTubeVideo\n",
    "YouTubeVideo(id=\"e7Nel0UoXR8\", width=600, height=400)"
   ]
  },
  {
   "cell_type": "code",
   "execution_count": 10,
   "metadata": {},
   "outputs": [
    {
     "data": {
      "application/vnd.jupyter.widget-view+json": {
       "model_id": "f197823e25f3433281424bb72f28e01e",
       "version_major": 2,
       "version_minor": 0
      },
      "text/plain": [
       "VBox(children=(Figure(camera=PerspectiveCamera(fov=46.0, position=(0.0, 0.0, 2.0), quaternion=(0.0, 0.0, 0.0, …"
      ]
     },
     "metadata": {},
     "output_type": "display_data"
    }
   ],
   "source": [
    "import ipyvolume.pylab as plt3d\n",
    "import numpy as np\n",
    "\n",
    "t = np.linspace(-3, 3, 100)\n",
    "s = np.linspace(-3, 3, 100)\n",
    "t, s =np.meshgrid(t, s)\n",
    "X = t**2 - s**2\n",
    "Y = s * t\n",
    "Z = t * s**2 - s * t**2\n",
    "\n",
    "plt3d.plot_surface(X, Z, Y, color=\"red\")\n",
    "plt3d.zlabel(\"y\")\n",
    "plt3d.ylabel(\"z\")\n",
    "plt3d.show()"
   ]
  },
  {
   "cell_type": "markdown",
   "metadata": {},
   "source": [
    "### The Partial Derivative"
   ]
  },
  {
   "cell_type": "code",
   "execution_count": 11,
   "metadata": {},
   "outputs": [],
   "source": [
    "import sympy\n",
    "sympy.init_printing()\n",
    "\n",
    "t, s = sympy.symbols(\"t, s\")\n",
    "v = sympy.Matrix([[t**2 - s**2], [s * t], [t * s**2 - s * t**2]])"
   ]
  },
  {
   "cell_type": "code",
   "execution_count": 12,
   "metadata": {},
   "outputs": [
    {
     "data": {
      "text/latex": [
       "$$\\left[\\begin{matrix}2 t\\\\s\\\\s^{2} - 2 s t\\end{matrix}\\right]$$"
      ],
      "text/plain": [
       "⎡   2⋅t    ⎤\n",
       "⎢          ⎥\n",
       "⎢    s     ⎥\n",
       "⎢          ⎥\n",
       "⎢ 2        ⎥\n",
       "⎣s  - 2⋅s⋅t⎦"
      ]
     },
     "execution_count": 12,
     "metadata": {},
     "output_type": "execute_result"
    }
   ],
   "source": [
    "# partial t\n",
    "patial_t = v.diff(t)\n",
    "patial_t"
   ]
  },
  {
   "cell_type": "code",
   "execution_count": 13,
   "metadata": {},
   "outputs": [
    {
     "data": {
      "text/latex": [
       "$$\\left[\\begin{matrix}- 2 s\\\\t\\\\2 s t - t^{2}\\end{matrix}\\right]$$"
      ],
      "text/plain": [
       "⎡   -2⋅s   ⎤\n",
       "⎢          ⎥\n",
       "⎢    t     ⎥\n",
       "⎢          ⎥\n",
       "⎢         2⎥\n",
       "⎣2⋅s⋅t - t ⎦"
      ]
     },
     "execution_count": 13,
     "metadata": {},
     "output_type": "execute_result"
    }
   ],
   "source": [
    "# partial s\n",
    "patial_s = v.diff(s)\n",
    "patial_s"
   ]
  },
  {
   "cell_type": "code",
   "execution_count": 16,
   "metadata": {},
   "outputs": [
    {
     "data": {
      "application/vnd.jupyter.widget-view+json": {
       "model_id": "6a0a36f351304147b6f1712233e10373",
       "version_major": 2,
       "version_minor": 0
      },
      "text/plain": [
       "VBox(children=(Figure(camera=PerspectiveCamera(fov=46.0, position=(0.0, 0.0, 2.0), quaternion=(0.0, 0.0, 0.0, …"
      ]
     },
     "metadata": {},
     "output_type": "display_data"
    }
   ],
   "source": [
    "t = np.linspace(-3, 3, 100)\n",
    "s = np.linspace(-3, 3, 100)\n",
    "t, s =np.meshgrid(t, s)\n",
    "\n",
    "x_t = 2 * t\n",
    "y_t = s\n",
    "z_t = s**2 - 2 * s * t\n",
    "\n",
    "x_s = -2 * s\n",
    "y_s = t\n",
    "z_s = -t**2 + 2 * s * t\n",
    "\n",
    "plt3d.figure(width=500, height=600)\n",
    "plt3d.plot_surface(X, Z, Y, color=\"white\")\n",
    "plt3d.plot(x_t, z_t, y_t, color=\"red\")\n",
    "plt3d.plot(x_s, z_s, y_s, color=\"blue\")\n",
    "plt3d.zlabel(\"y\")\n",
    "plt3d.ylabel(\"z\")\n",
    "plt3d.show()"
   ]
  },
  {
   "cell_type": "code",
   "execution_count": null,
   "metadata": {},
   "outputs": [],
   "source": []
  }
 ],
 "metadata": {
  "kernelspec": {
   "display_name": "Python 3",
   "language": "python",
   "name": "python3"
  },
  "language_info": {
   "codemirror_mode": {
    "name": "ipython",
    "version": 3
   },
   "file_extension": ".py",
   "mimetype": "text/x-python",
   "name": "python",
   "nbconvert_exporter": "python",
   "pygments_lexer": "ipython3",
   "version": "3.6.8"
  }
 },
 "nbformat": 4,
 "nbformat_minor": 2
}
